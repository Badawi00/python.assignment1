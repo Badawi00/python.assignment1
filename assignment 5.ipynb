{
 "cells": [
  {
   "cell_type": "markdown",
   "id": "b8d76880-f00c-451c-a023-fce95e22c2da",
   "metadata": {},
   "source": [
    "Task 1\n"
   ]
  },
  {
   "cell_type": "code",
   "execution_count": 3,
   "id": "87251a00-224c-4678-950b-588720198be8",
   "metadata": {},
   "outputs": [
    {
     "name": "stdout",
     "output_type": "stream",
     "text": [
      "15\n",
      "5\n",
      "50\n",
      "2.0\n",
      "Cannot divide by zero\n"
     ]
    }
   ],
   "source": [
    "class Calculator:\n",
    "    def add(self, a, b):\n",
    "        return a + b\n",
    "    \n",
    "    def subtract(self, a, b):\n",
    "        return a - b\n",
    "    \n",
    "    def multiply(self, a, b):\n",
    "        return a * b\n",
    "    \n",
    "    def divide(self, a, b):\n",
    "        if b != 0:\n",
    "            return a / b\n",
    "        else:\n",
    "            return \"Cannot divide by zero\"\n",
    "    \n",
    "# Example of using the Calculator class\n",
    "calc = Calculator()\n",
    "print(calc.add(10, 5))         # Output: 15\n",
    "print(calc.subtract(10, 5))    # Output: 5\n",
    "print(calc.multiply(10, 5))    # Output: 50\n",
    "print(calc.divide(10, 5))      # Output: 2.0\n",
    "print(calc.divide(10, 0))      # Output: Cannot divide by zero"
   ]
  },
  {
   "cell_type": "markdown",
   "id": "ef9ea17d-f18c-4754-818b-565858acbe15",
   "metadata": {},
   "source": [
    "Task 2"
   ]
  },
  {
   "cell_type": "code",
   "execution_count": 6,
   "id": "9066436a-6dad-4e78-abce-79fd8d3a1891",
   "metadata": {},
   "outputs": [
    {
     "name": "stdout",
     "output_type": "stream",
     "text": [
      "Length: 5, Width: 3, Perimeter: 16, Area: 15\n",
      "Length: 5, Width: 3, Perimeter: 16, Area: 15\n",
      "Height: 4, Volume: 60\n"
     ]
    }
   ],
   "source": [
    "class Rectangle:\n",
    "    def __init__(self, length, width):\n",
    "        self.length = length\n",
    "        self.width = width\n",
    "    \n",
    "    def perimeter(self):\n",
    "        return 2 * (self.length + self.width)\n",
    "    \n",
    "    def area(self):\n",
    "        return self.length * self.width\n",
    "    \n",
    "    def display(self):\n",
    "        print(f\"Length: {self.length}, Width: {self.width}, Perimeter: {self.perimeter()}, Area: {self.area()}\")\n",
    "\n",
    "class Parallelepiped(Rectangle):\n",
    "    def __init__(self, length, width, height):\n",
    "        super().__init__(length, width)\n",
    "        self.height = height\n",
    "    \n",
    "    def volume(self):\n",
    "        return self.area() * self.height\n",
    "    \n",
    "    def display(self):\n",
    "        super().display()\n",
    "        print(f\"Height: {self.height}, Volume: {self.volume()}\")\n",
    "\n",
    "# Example of using the Rectangle and Parallelepiped classes\n",
    "rect = Rectangle(5, 3)\n",
    "rect.display()  # Output: Length: 5, Width: 3, Perimeter: 16, Area: 15\n",
    "\n",
    "parallelepiped = Parallelepiped(5, 3, 4)\n",
    "parallelepiped.display()  # Output: Length: 5, Width: 3, Perimeter: 16, Area: 15, Height: 4, Volume: 60\n"
   ]
  },
  {
   "cell_type": "markdown",
   "id": "98d3263f-66c0-4265-939e-735e475e87c4",
   "metadata": {},
   "source": [
    "Task 3"
   ]
  },
  {
   "cell_type": "code",
   "execution_count": 9,
   "id": "c8858386-9b06-4271-aff9-37ae7ee44daa",
   "metadata": {},
   "outputs": [
    {
     "name": "stdout",
     "output_type": "stream",
     "text": [
      "Name: John, Age: 30\n",
      "Name: Alice, Age: 20, Section: A\n"
     ]
    }
   ],
   "source": [
    "class Person:\n",
    "    def __init__(self, name, age):\n",
    "        self.name = name\n",
    "        self.age = age\n",
    "    \n",
    "    def display(self):\n",
    "        print(f\"Name: {self.name}, Age: {self.age}\")\n",
    "\n",
    "class Student(Person):\n",
    "    def __init__(self, name, age, section):\n",
    "        super().__init__(name, age)\n",
    "        self.section = section\n",
    "    \n",
    "    def displayStudent(self):\n",
    "        print(f\"Name: {self.name}, Age: {self.age}, Section: {self.section}\")\n",
    "\n",
    "# Example of using the Person and Student classes\n",
    "person = Person(\"John\", \"30\")\n",
    "person.display()  # Output: Name: John, Age: 30\n",
    "\n",
    "student = Student(\"Alice\", \"20\", \"A\")\n",
    "student.displayStudent()  # Output: Name: Alice, Age: 20, Section: A"
   ]
  },
  {
   "cell_type": "code",
   "execution_count": null,
   "id": "b6daa5a2-6704-45b1-8e0a-552ff4fefd80",
   "metadata": {},
   "outputs": [],
   "source": []
  }
 ],
 "metadata": {
  "kernelspec": {
   "display_name": "Python 3 (ipykernel)",
   "language": "python",
   "name": "python3"
  },
  "language_info": {
   "codemirror_mode": {
    "name": "ipython",
    "version": 3
   },
   "file_extension": ".py",
   "mimetype": "text/x-python",
   "name": "python",
   "nbconvert_exporter": "python",
   "pygments_lexer": "ipython3",
   "version": "3.12.7"
  }
 },
 "nbformat": 4,
 "nbformat_minor": 5
}
